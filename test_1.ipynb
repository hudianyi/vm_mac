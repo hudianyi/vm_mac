{
 "cells": [
  {
   "cell_type": "code",
   "execution_count": null,
   "metadata": {},
   "outputs": [],
   "source": [
    "import pandas as pd\n",
    "import numpy as np\n",
    "\n",
    "\n",
    "test_x = pd.read_csv('test_set_x.csv', header=0)"
   ]
  },
  {
   "cell_type": "code",
   "execution_count": null,
   "metadata": {},
   "outputs": [],
   "source": [
    "test_x.shape"
   ]
  },
  {
   "cell_type": "code",
   "execution_count": null,
   "metadata": {},
   "outputs": [],
   "source": [
    "test_x.columns"
   ]
  },
  {
   "cell_type": "code",
   "execution_count": null,
   "metadata": {},
   "outputs": [],
   "source": [
    "#test_x.drop(['MACHINE_ID', 'MACHINE_DATA'], inplace=True, axis=1)\n",
    "test_x['STAGE'] = test_x['STAGE'].map(lambda x: 1 if x == 'A' else 0)\n",
    "test_x['TIMESTAMP'] = test_x['TIMESTAMP'] - test_x['TIMESTAMP'].min()\n",
    "\n",
    "test_x.info()"
   ]
  },
  {
   "cell_type": "code",
   "execution_count": null,
   "metadata": {},
   "outputs": [],
   "source": [
    "from scipy.integrate import trapz # 用于计算积分\n",
    " \n",
    "\n",
    "def cal_integral(x,y):\n",
    "    integrals = []\n",
    "    for i in range(len(y)): # 计算梯形的面积，由于是累加，所以是切片\"i+1\"\n",
    "        integrals.append(trapz(y[:i + 1], x[:i + 1]))\n",
    "    \n",
    "    return integrals"
   ]
  },
  {
   "cell_type": "code",
   "execution_count": null,
   "metadata": {},
   "outputs": [],
   "source": [
    "inte_features = ['USAGE_OF_BACKING_FILM', 'USAGE_OF_DRESSER',\n",
    "       'USAGE_OF_POLISHING_TABLE', 'USAGE_OF_DRESSER_TABLE',\n",
    "       'PRESSURIZED_CHAMBER_PRESSURE', 'MAIN_OUTER_AIR_BAG_PRESSURE',\n",
    "       'CENTER_AIR_BAG_PRESSURE', 'RETAINER_RING_PRESSURE',\n",
    "       'RIPPLE_AIR_BAG_PRESSURE', 'USAGE_OF_MEMBRANE',\n",
    "       'USAGE_OF_PRESSURIZED_SHEET', 'SLURRY_FLOW_LINE_A',\n",
    "       'SLURRY_FLOW_LINE_B', 'SLURRY_FLOW_LINE_C', 'WAFER_ROTATION',\n",
    "       'STAGE_ROTATION', 'HEAD_ROTATION', 'DRESSING_WATER_STATUS',\n",
    "       'EDGE_AIR_BAG_PRESSURE']\n",
    "\n",
    "\n",
    "def grp_proc(s):\n",
    "    row = { 'WAFER_ID': [s['WAFER_ID'].unique()[0]],\n",
    "            'PATH_CHAMBERS': [len(s['CHAMBER'].unique())],\n",
    "            'PATH_STAGES': [len(s['STAGE'].unique())],\n",
    "            'START_TIME': [s['TIMESTAMP'].min()],\n",
    "            'RUN_TIME': [s['TIMESTAMP'].max() - s['TIMESTAMP'].min()],\n",
    "            'CHAMBER': [np.sum(list(s['CHAMBER'].unique()))],\n",
    "        }\n",
    "\n",
    "    for i in inte_features:\n",
    "        row[i] = trapz(s[i], s['TIMESTAMP'])/row['RUN_TIME'][0]\n",
    "\n",
    "    return pd.DataFrame.from_dict(row)\n",
    "\n",
    "\n",
    "\n",
    "#test = grp_proc(df_wafer)\n",
    "#print(test)\n",
    "\n",
    "X_grp0 = test_x.groupby(['WAFER_ID'], as_index=False).apply(grp_proc)\n",
    "X_grp0.shape\n",
    "print(X_grp0)"
   ]
  },
  {
   "cell_type": "code",
   "execution_count": null,
   "metadata": {},
   "outputs": [],
   "source": [
    "X_grp0.to_csv('test_x_compresssd_1.csv', index=False)"
   ]
  },
  {
   "cell_type": "code",
   "execution_count": null,
   "metadata": {},
   "outputs": [],
   "source": [
    "\n",
    "wafer = test_x['WAFER_ID'].unique()[0:1]\n",
    "\n",
    "df_wafer = test_x[test_x['WAFER_ID'].isin(wafer)]\n",
    "print(df_wafer.shape)\n",
    "\n",
    "df_wafer.drop_duplicates(subset=['TIMESTAMP'], inplace=True)\n",
    "print(df_wafer.shape)\n"
   ]
  },
  {
   "cell_type": "code",
   "execution_count": null,
   "metadata": {},
   "outputs": [],
   "source": [
    "from scipy import interpolate\n",
    "\n",
    "def grp_cpr(s):\n",
    "    cols = list(set(s.columns)-set(['TIMESTAMP']))\n",
    "\n",
    "    X = df_wafer['TIMESTAMP']\n",
    "    X_view = np.linspace(X.iloc[0], X.iloc[-1], 50)\n",
    "    s2 = pd.DataFrame(X_view, columns=['TIMESTAMP'])\n",
    "    for i in cols:\n",
    "        tck = interpolate.make_interp_spline(x=X, y=s[i], k=1)\n",
    "        piecewise_polynomial = interpolate.PPoly.from_spline(tck, extrapolate=None)\n",
    "        s2[i] = piecewise_polynomial(X_view)\n",
    "\n",
    "    return s2\n",
    "\n",
    "\n",
    "test = grp_cpr(df_wafer)\n",
    "test.shape\n",
    "print(test)"
   ]
  }
 ],
 "metadata": {
  "kernelspec": {
   "display_name": "base",
   "language": "python",
   "name": "python3"
  },
  "language_info": {
   "codemirror_mode": {
    "name": "ipython",
    "version": 3
   },
   "file_extension": ".py",
   "mimetype": "text/x-python",
   "name": "python",
   "nbconvert_exporter": "python",
   "pygments_lexer": "ipython3",
   "version": "3.10.9"
  },
  "orig_nbformat": 4
 },
 "nbformat": 4,
 "nbformat_minor": 2
}
