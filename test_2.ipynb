{
 "cells": [
  {
   "cell_type": "code",
   "execution_count": 100,
   "metadata": {},
   "outputs": [
    {
     "name": "stdout",
     "output_type": "stream",
     "text": [
      "(39900, 27)\n",
      "(8250, 27)\n",
      "Index(['TIMESTAMP', 'STAGE_ROTATION', 'WAFER_ROTATION', 'HEAD_ROTATION',\n",
      "       'EDGE_AIR_BAG_PRESSURE', 'DRESSING_WATER_STATUS',\n",
      "       'USAGE_OF_DRESSER_TABLE', 'MAIN_OUTER_AIR_BAG_PRESSURE',\n",
      "       'SLURRY_FLOW_LINE_B', 'USAGE_OF_MEMBRANE', 'SLURRY_FLOW_LINE_A',\n",
      "       'RIPPLE_AIR_BAG_PRESSURE', 'MACHINE_DATA', 'CENTER_AIR_BAG_PRESSURE',\n",
      "       'AVG_REMOVAL_RATE', 'MACHINE_ID', 'STAGE', 'USAGE_OF_PRESSURIZED_SHEET',\n",
      "       'USAGE_OF_POLISHING_TABLE', 'CHAMBER', 'RETAINER_RING_PRESSURE',\n",
      "       'USAGE_OF_BACKING_FILM', 'SLURRY_FLOW_LINE_C', 'WAFER_ID',\n",
      "       'USAGE_OF_DRESSER', 'PRESSURIZED_CHAMBER_PRESSURE', 'START_TIME'],\n",
      "      dtype='object')\n"
     ]
    }
   ],
   "source": [
    "import pandas as pd\n",
    "import numpy as np\n",
    "\n",
    "train_loc = 'data/train_runpath1_cpr_50.csv'\n",
    "test_loc = 'data/test_runpath1_cpr_50.csv'\n",
    "\n",
    "train_data = pd.read_csv(train_loc, header=0)\n",
    "test_data = pd.read_csv(test_loc, header=0)\n",
    "\n",
    "print(train_data.shape)\n",
    "print(test_data.shape)\n",
    "print(test_data.columns)"
   ]
  },
  {
   "cell_type": "code",
   "execution_count": 101,
   "metadata": {},
   "outputs": [
    {
     "name": "stdout",
     "output_type": "stream",
     "text": [
      "['RETAINER_RING_PRESSURE', 'USAGE_OF_DRESSER', 'SLURRY_FLOW_LINE_B', 'DRESSING_WATER_STATUS', 'PRESSURIZED_CHAMBER_PRESSURE', 'SLURRY_FLOW_LINE_A', 'STAGE_ROTATION', 'USAGE_OF_MEMBRANE', 'HEAD_ROTATION', 'AVG_REMOVAL_RATE', 'SLURRY_FLOW_LINE_C', 'CENTER_AIR_BAG_PRESSURE', 'WAFER_ROTATION', 'MAIN_OUTER_AIR_BAG_PRESSURE', 'USAGE_OF_DRESSER_TABLE', 'EDGE_AIR_BAG_PRESSURE', 'USAGE_OF_POLISHING_TABLE', 'RIPPLE_AIR_BAG_PRESSURE']\n",
      "(4, 50, 18)\n"
     ]
    },
    {
     "name": "stderr",
     "output_type": "stream",
     "text": [
      "/var/folders/_9/y_ys4zh12q1599805w861cnm0000gn/T/ipykernel_25325/2893135095.py:10: SettingWithCopyWarning: \n",
      "A value is trying to be set on a copy of a slice from a DataFrame.\n",
      "Try using .loc[row_indexer,col_indexer] = value instead\n",
      "\n",
      "See the caveats in the documentation: https://pandas.pydata.org/pandas-docs/stable/user_guide/indexing.html#returning-a-view-versus-a-copy\n",
      "  wafers[i] = (wafers[i]-wafers[i].min())/(wafers[i].max()-wafers[i].min())\n"
     ]
    }
   ],
   "source": [
    "drop_features = ['TIMESTAMP', 'START_TIME', 'STAGE', 'WAFER_ID', 'MACHINE_DATA',  'CHAMBER', 'MACHINE_ID', 'USAGE_OF_BACKING_FILM', 'USAGE_OF_PRESSURIZED_SHEET']\n",
    "sele_features = list(set(test_data.columns)-set(drop_features))\n",
    "print(sele_features)\n",
    "\n",
    "wafer_id = train_data['WAFER_ID'].unique()[:5]\n",
    "wafers = train_data[train_data['WAFER_ID'].isin(wafer_id[1:])]\n",
    "#print(wafers)\n",
    "\n",
    "for i in sele_features:\n",
    "    wafers[i] = (wafers[i]-wafers[i].min())/(wafers[i].max()-wafers[i].min())\n",
    "\n",
    "\n",
    "wafers_list = []\n",
    "def wafer_to_npy(s, a):\n",
    "    s.sort_values(by='TIMESTAMP', inplace=True)\n",
    "    s = s[sele_features]\n",
    "    a.append(s.to_numpy())\n",
    "\n",
    "wafers.groupby('START_TIME').apply(wafer_to_npy, a=wafers_list)\n",
    "\n",
    "wafers_list = np.array(wafers_list)\n",
    "print(wafers_list.shape)\n",
    "\n",
    "np.save('data/test_runath1_50.npy', wafers_list)"
   ]
  }
 ],
 "metadata": {
  "kernelspec": {
   "display_name": "base",
   "language": "python",
   "name": "python3"
  },
  "language_info": {
   "codemirror_mode": {
    "name": "ipython",
    "version": 3
   },
   "file_extension": ".py",
   "mimetype": "text/x-python",
   "name": "python",
   "nbconvert_exporter": "python",
   "pygments_lexer": "ipython3",
   "version": "3.10.9"
  },
  "orig_nbformat": 4
 },
 "nbformat": 4,
 "nbformat_minor": 2
}
